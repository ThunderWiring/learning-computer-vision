{
  "nbformat": 4,
  "nbformat_minor": 0,
  "metadata": {
    "accelerator": "GPU",
    "colab": {
      "name": "mnist-digit-classifier.ipynb",
      "provenance": [],
      "collapsed_sections": [
        "P3kPrtV6Ltn9",
        "gOQW1XarhB7_"
      ],
      "authorship_tag": "ABX9TyMuVpwzVDUUIzW2U43CHmF/"
    },
    "kernelspec": {
      "display_name": "Python 3",
      "name": "python3"
    },
    "language_info": {
      "name": "python"
    }
  },
  "cells": [
    {
      "cell_type": "code",
      "metadata": {
        "id": "zdixt-sbbZAe"
      },
      "source": [
        "import numpy as np\n",
        "import torch\n",
        "import requests\n",
        "from PIL import Image\n",
        "import matplotlib.pyplot as plt\n",
        "import torchvision\n"
      ],
      "execution_count": 1,
      "outputs": []
    },
    {
      "cell_type": "markdown",
      "metadata": {
        "id": "TX_Zs8b_eeyg"
      },
      "source": [
        "# MNIST"
      ]
    },
    {
      "cell_type": "markdown",
      "metadata": {
        "id": "5A0SbUtyejk6"
      },
      "source": [
        "recognizing hand written digits"
      ]
    },
    {
      "cell_type": "markdown",
      "metadata": {
        "id": "hJKxtg9svpx5"
      },
      "source": [
        "downloading the data set"
      ]
    },
    {
      "cell_type": "code",
      "metadata": {
        "id": "5rjE_FmShkOa",
        "colab": {
          "base_uri": "https://localhost:8080/"
        },
        "outputId": "17ab57b9-81cc-4bd2-c9b7-4350e5b4b3b4"
      },
      "source": [
        "# code here is taken from https://nextjournal.com/gkoehler/pytorch-mnist\n",
        "batch_size_train = 64\n",
        "batch_size_test = 1000\n",
        "train_loader = torch.utils.data.DataLoader(\n",
        "  torchvision.datasets.MNIST('/files/', train=True, download=True,\n",
        "                             transform=torchvision.transforms.Compose([\n",
        "                               torchvision.transforms.ToTensor(),\n",
        "                               \n",
        "                             ])),\n",
        "  batch_size=batch_size_train, shuffle=True)\n",
        "\n",
        "test_loader = torch.utils.data.DataLoader(\n",
        "  torchvision.datasets.MNIST('/files/', train=False, download=True,\n",
        "                             transform=torchvision.transforms.Compose([\n",
        "                               torchvision.transforms.ToTensor(),\n",
        "                             ])),\n",
        "  batch_size=batch_size_test, shuffle=True)"
      ],
      "execution_count": 2,
      "outputs": [
        {
          "output_type": "stream",
          "text": [
            "/usr/local/lib/python3.7/dist-packages/torchvision/datasets/mnist.py:498: UserWarning: The given NumPy array is not writeable, and PyTorch does not support non-writeable tensors. This means you can write to the underlying (supposedly non-writeable) NumPy array using the tensor. You may want to copy the array to protect its data or make it writeable before converting it to a tensor. This type of warning will be suppressed for the rest of this program. (Triggered internally at  /pytorch/torch/csrc/utils/tensor_numpy.cpp:180.)\n",
            "  return torch.from_numpy(parsed.astype(m[2], copy=False)).view(*s)\n"
          ],
          "name": "stderr"
        }
      ]
    },
    {
      "cell_type": "markdown",
      "metadata": {
        "id": "j46BhU_sHZxz"
      },
      "source": [
        "## Recognizing handwritten digits\n",
        "\n",
        "This section trains a model using different methods to acheieve high accuracy (metric) for recognizing the handwritten digits.\n",
        "\n",
        "The data will be divided into 3 sections :\n",
        "1. training data\n",
        "2. validating data\n",
        "3. test data\n",
        "\n",
        "\n",
        "\n",
        "\n"
      ]
    },
    {
      "cell_type": "markdown",
      "metadata": {
        "id": "P3kPrtV6Ltn9"
      },
      "source": [
        "### Method 1 \n"
      ]
    },
    {
      "cell_type": "markdown",
      "metadata": {
        "id": "WguE8fcfLwfZ"
      },
      "source": [
        "Calculating the avg of all the same-digit-label images, then given an input image, we decide which digit it represent according to the min distance from the avg image."
      ]
    },
    {
      "cell_type": "code",
      "metadata": {
        "id": "Tdv2NZEyLbDO",
        "colab": {
          "base_uri": "https://localhost:8080/"
        },
        "outputId": "99f1f38f-0a30-4e89-80da-bd0c8bbad9b1"
      },
      "source": [
        "# taking the avg per digit of the training set\n",
        "\n",
        "print(type(train_loader.dataset[0][0]))\n",
        "print(len(train_loader.dataset))\n",
        "\n",
        "avgs = [torch.zeros(size=(28,28)) for i in range(10)]\n",
        "counts = [0 for i in range(10)]\n",
        "\n",
        "for image, label in train_loader.dataset:\n",
        "  image = torch.squeeze(image)\n",
        "  avgs[label] = torch.stack([avgs[label], image]).sum(dim=0)\n",
        "  counts[label] += 1\n",
        "\n",
        "for i in range(10):\n",
        "   avgs[i] *= 1/counts[i]\n"
      ],
      "execution_count": 3,
      "outputs": [
        {
          "output_type": "stream",
          "text": [
            "<class 'torch.Tensor'>\n",
            "60000\n"
          ],
          "name": "stdout"
        }
      ]
    },
    {
      "cell_type": "markdown",
      "metadata": {
        "id": "Gmecr8l_eWoH"
      },
      "source": [
        "plotting the avg"
      ]
    },
    {
      "cell_type": "code",
      "metadata": {
        "id": "2We-ICqXeYiJ",
        "colab": {
          "base_uri": "https://localhost:8080/",
          "height": 0
        },
        "outputId": "07534f6e-6583-4644-a881-0ba9d9fb27e9"
      },
      "source": [
        "\n",
        "fig = plt.figure()\n",
        "for i in range(10):\n",
        "  plt.subplot(2,5,i+1)\n",
        "  plt.imshow(avgs[i], cmap='gray', interpolation='none')\n",
        "  plt.title(\"Avg: {}\".format(i))\n",
        "  plt.xticks([])\n",
        "  plt.yticks([])\n",
        "fig"
      ],
      "execution_count": 4,
      "outputs": [
        {
          "output_type": "execute_result",
          "data": {
            "image/png": "[encoded data removed]",
            "text/plain": [
              "<Figure size 432x288 with 10 Axes>"
            ]
          },
          "metadata": {
            "tags": []
          },
          "execution_count": 4
        },
        {
          "output_type": "display_data",
          "data": {
            "image/png": "[encoded data removed]",
            "text/plain": [
              "<Figure size 432x288 with 10 Axes>"
            ]
          },
          "metadata": {
            "tags": []
          }
        }
      ]
    },
    {
      "cell_type": "markdown",
      "metadata": {
        "id": "r3X7z4MuV_yn"
      },
      "source": [
        "Now that we have the average of each image, we can determine for each image in the test data set what digit it represents according to its minimal distance from any of the average images.\n",
        "\n",
        "Will test both L1 and L2 distance calculations and compare the accuracy of the model."
      ]
    },
    {
      "cell_type": "code",
      "metadata": {
        "id": "lEzQ74XsWav9",
        "colab": {
          "base_uri": "https://localhost:8080/"
        },
        "outputId": "af53f37b-aa2c-4f24-9931-c87d9e9979c3"
      },
      "source": [
        "def L1(image):\n",
        "  return [(image - avgs[i]).abs().mean().item() for i in range(10)]\n",
        "\n",
        "def L2(image):\n",
        "  return [torch.sqrt(torch.pow((image - avgs[i]), 2).mean()).item() for i in range(10)]\n",
        "\n",
        "def predict(dists):\n",
        "  return np.argsort(dists, axis=0)[0]\n",
        "\n",
        "\n",
        "l1_dists = L1(train_loader.dataset[0][0])\n",
        "l2_dists = L2(train_loader.dataset[0][0])\n",
        "print('L1 for 1st item in trainer dataset: ', l1_dists, 'label: ', train_loader.dataset[0][1])\n",
        "print('L2 for 1st item in trainer dataset: ',l2_dists)\n",
        "print('model prediction using L1, L2:', predict(l1_dists), predict(l2_dists))\n"
      ],
      "execution_count": 5,
      "outputs": [
        {
          "output_type": "stream",
          "text": [
            "L1 for 1st item in trainer dataset:  [0.16943226754665375, 0.13352370262145996, 0.1639411896467209, 0.13608457148075104, 0.16499747335910797, 0.1334165632724762, 0.1561395823955536, 0.14413666725158691, 0.14566762745380402, 0.14975249767303467] label:  5\n",
            "L2 for 1st item in trainer dataset:  [0.2904532849788666, 0.29626545310020447, 0.28313082456588745, 0.24634882807731628, 0.30586007237434387, 0.23909679055213928, 0.2848289906978607, 0.2784634530544281, 0.26365649700164795, 0.2821143567562103]\n",
            "model prediction using L1, L2: 5 5\n"
          ],
          "name": "stdout"
        }
      ]
    },
    {
      "cell_type": "markdown",
      "metadata": {
        "id": "wy4X1cM3a6CD"
      },
      "source": [
        "Applying the L1, L2 dist from the avg image over the test data and calculating the overall accuracy of the model."
      ]
    },
    {
      "cell_type": "code",
      "metadata": {
        "id": "F3Gr4GMDa5qU",
        "colab": {
          "base_uri": "https://localhost:8080/"
        },
        "outputId": "583f69d2-a7be-46f4-d0d5-940ba5e0c603"
      },
      "source": [
        "\n",
        "l1_predictions = [0.0 for i in range(10)]\n",
        "l2_predictions = [0.0 for i in range(10)]\n",
        "counts = [0 for i in range(10)]\n",
        "for image, label in test_loader.dataset:\n",
        "  counts[label] += 1\n",
        "  if predict(L1(image)) == label:\n",
        "    l1_predictions[label] += 1\n",
        "  if predict(L2(image)) == label:\n",
        "    l2_predictions[label] += 1\n",
        "\n",
        "l1_accuracy = [l1_predictions[i]/counts[i] for i in range(10)]\n",
        "l2_accuracy = [l2_predictions[i]/counts[i] for i in range(10)]\n",
        "print('L1 predications accuracy per digit: ', l1_accuracy)\n",
        "print('L2 predications accuracy per digit: ', l2_accuracy)\n",
        "print('L1 accuracy: ', np.sum(l1_accuracy)/10)\n",
        "print('L2 accuracy: ', np.sum(l2_accuracy)/ 10)\n"
      ],
      "execution_count": 6,
      "outputs": [
        {
          "output_type": "stream",
          "text": [
            "L1 predications accuracy per digit:  [0.8153061224489796, 0.9982378854625551, 0.42344961240310075, 0.6089108910891089, 0.6680244399185336, 0.32623318385650224, 0.7870563674321504, 0.7645914396887159, 0.44250513347022585, 0.77601585728444]\n",
            "L2 predications accuracy per digit:  [0.8959183673469387, 0.9621145374449339, 0.7567829457364341, 0.805940594059406, 0.8258655804480651, 0.6860986547085202, 0.8632567849686847, 0.8326848249027238, 0.7371663244353183, 0.8067393458870169]\n",
            "L1 accuracy:  0.6610330933054313\n",
            "L2 accuracy:  0.8172567959938041\n"
          ],
          "name": "stdout"
        }
      ]
    },
    {
      "cell_type": "markdown",
      "metadata": {
        "id": "HvVhNe2vLZaX"
      },
      "source": [
        "**Follow up:**\n",
        "\n",
        "changing how the data is segmented, and here it'll be according to folds, but since the avg might not be exact (because will be taking less images in order to calc it), i'll use KNN and see how the accuracy will change.\n"
      ]
    },
    {
      "cell_type": "markdown",
      "metadata": {
        "id": "gOQW1XarhB7_"
      },
      "source": [
        "### Method 2"
      ]
    },
    {
      "cell_type": "markdown",
      "metadata": {
        "id": "eacsp4yzhUdg"
      },
      "source": [
        "Using nueral network - will flaten the image s.t. each pixel will be a nueron.\n",
        "This network will have 10 outputs, where each output corresponds to the propability of the image being a certain digit (according to the index of the output), meaning out put 9 will have the probability for the input image being a 9.\n",
        "\n",
        "The ReLU will be used as the non-linearity activation for the first layer and in order to get the outputs all between 0 and 1 (to represent probability) as well as sum to 1, will use softmax"
      ]
    },
    {
      "cell_type": "code",
      "metadata": {
        "id": "fJ5KelHui5DJ",
        "colab": {
          "base_uri": "https://localhost:8080/"
        },
        "outputId": "bfa921f6-8fb1-448f-c332-d208facb8093"
      },
      "source": [
        "net = torch.nn.Sequential(\n",
        "    torch.nn.Flatten(start_dim=1),\n",
        "    torch.nn.Linear(28*28, 30), \n",
        "    torch.nn.ReLU(), \n",
        "    torch.nn.Linear(30, 10),\n",
        "    torch.nn.Softmax()\n",
        ")\n",
        "print(net)\n",
        "optim = torch.optim.SGD(net.parameters(), lr=0.05)\n",
        "loss_func = torch.nn.CrossEntropyLoss()\n",
        "\n",
        "input_t = train_loader.dataset[0][0].unsqueeze(0)\n",
        "label = train_loader.dataset[0][1]\n",
        "print('label', label, type(label), 'input_t shape', input_t.shape)\n",
        "\n",
        "for i in range(13):\n",
        "  output = net(input_t)\n",
        "  loss = loss_func(output, torch.tensor([label]))\n",
        "  optim.zero_grad()\n",
        "  loss.backward()\n",
        "  optim.step()\n",
        "output\n"
      ],
      "execution_count": 7,
      "outputs": [
        {
          "output_type": "stream",
          "text": [
            "Sequential(\n",
            "  (0): Flatten(start_dim=1, end_dim=-1)\n",
            "  (1): Linear(in_features=784, out_features=30, bias=True)\n",
            "  (2): ReLU()\n",
            "  (3): Linear(in_features=30, out_features=10, bias=True)\n",
            "  (4): Softmax(dim=None)\n",
            ")\n",
            "label 5 <class 'int'> input_t shape torch.Size([1, 1, 28, 28])\n"
          ],
          "name": "stdout"
        },
        {
          "output_type": "stream",
          "text": [
            "/usr/local/lib/python3.7/dist-packages/torch/nn/modules/container.py:139: UserWarning: Implicit dimension choice for softmax has been deprecated. Change the call to include dim=X as an argument.\n",
            "  input = module(input)\n"
          ],
          "name": "stderr"
        },
        {
          "output_type": "execute_result",
          "data": {
            "text/plain": [
              "tensor([[0.1234, 0.0924, 0.0806, 0.0952, 0.1084, 0.1553, 0.1154, 0.0602, 0.0897,\n",
              "         0.0795]], grad_fn=<SoftmaxBackward>)"
            ]
          },
          "metadata": {
            "tags": []
          },
          "execution_count": 7
        }
      ]
    },
    {
      "cell_type": "markdown",
      "metadata": {
        "id": "odjmjM_f252C"
      },
      "source": [
        "### Method 3"
      ]
    },
    {
      "cell_type": "markdown",
      "metadata": {
        "id": "egPs8oqw3zcX"
      },
      "source": [
        "Using CNN "
      ]
    },
    {
      "cell_type": "code",
      "metadata": {
        "id": "gj06jE2A4Ylg",
        "colab": {
          "base_uri": "https://localhost:8080/"
        },
        "outputId": "11a3c7bb-4efb-40e2-a97c-05e72a2890c4"
      },
      "source": [
        "features_to_track  = 32\n",
        "model = torch.nn.Sequential(\n",
        "    # first cnn layer with a 3x3 filter, thus it outputs a tensor of size 26.\n",
        "    # since the image is grayscale, the in_channels is 1.\n",
        "    torch.nn.Conv2d(in_channels=1, out_channels=32,kernel_size=3,stride=1),\n",
        "    # torch.nn.ReLU(),\n",
        "\n",
        "    # max poolin with stride of 2, therefor it downsample by x2 each dim of the image\n",
        "    torch.nn.MaxPool2d(2,2),\n",
        "\n",
        "    torch.nn.Flatten(),\n",
        "\n",
        "    torch.nn.Linear(in_features=5408, out_features=100),\n",
        "    torch.nn.ReLU(),\n",
        "    torch.nn.Linear(in_features=100, out_features=20),\n",
        "    torch.nn.ReLU(),\n",
        "    torch.nn.Linear(in_features=20, out_features=10),\n",
        "    torch.nn.Sigmoid(),\n",
        ")\n",
        "loss_fn= torch.nn.CrossEntropyLoss()\n",
        "optim = torch.optim.SGD(params=model.parameters(), lr=0.01, momentum=0.9)\n",
        "\n",
        "epochs = 150\n",
        "\n",
        "for _ in range(epochs):\n",
        "  for train_img_batch, train_label_batch in train_loader:\n",
        "    # predict\n",
        "    predictions = model(train_img_batch)\n",
        "\n",
        "    # loss\n",
        "    loss = loss_fn(predictions, train_label_batch)\n",
        "\n",
        "    # backward \n",
        "    optim.zero_grad()\n",
        "    loss.backward()\n",
        "    \n",
        "    # step (update params)\n",
        "    optim.step()\n",
        "\n"
      ],
      "execution_count": 8,
      "outputs": [
        {
          "output_type": "stream",
          "text": [
            "/usr/local/lib/python3.7/dist-packages/torch/nn/functional.py:718: UserWarning: Named tensors and all their associated APIs are an experimental feature and subject to change. Please do not use them for anything important until they are released as stable. (Triggered internally at  /pytorch/c10/core/TensorImpl.h:1156.)\n",
            "  return torch.max_pool2d(input, kernel_size, stride, padding, dilation, ceil_mode)\n"
          ],
          "name": "stderr"
        }
      ]
    },
    {
      "cell_type": "markdown",
      "metadata": {
        "id": "SaIIiqNi1lKH"
      },
      "source": [
        "Test the model after training for few epochs"
      ]
    },
    {
      "cell_type": "code",
      "metadata": {
        "id": "vFoIRq7frb6k",
        "colab": {
          "base_uri": "https://localhost:8080/"
        },
        "outputId": "959a0d89-e87b-482d-9b07-ffc9949a64e5"
      },
      "source": [
        "def predict(img):\n",
        "  predictions = model(img.unsqueeze(0))\n",
        "  return np.argsort(predictions.detach().numpy()[0], axis=0)[-1]\n",
        "\n",
        "print('label', test_loader.dataset[1001][1])\n",
        "print('prediction', predict(test_loader.dataset[1001][0]))\n",
        "\n",
        "wrong_guess_count = 0\n",
        "for img_test, label in test_loader.dataset:\n",
        "  if label != predict(img_test):\n",
        "    wrong_guess_count += 1\n",
        "print('wrong guesses', wrong_guess_count, wrong_guess_count/len(test_loader.dataset))"
      ],
      "execution_count": 9,
      "outputs": [
        {
          "output_type": "stream",
          "text": [
            "label 0\n",
            "prediction 0\n",
            "wrong guesses 153 0.0153\n"
          ],
          "name": "stdout"
        }
      ]
    },
    {
      "cell_type": "markdown",
      "metadata": {
        "id": "ntQaRMFY3Nw4"
      },
      "source": [
        "### Test with random handwriting"
      ]
    },
    {
      "cell_type": "code",
      "metadata": {
        "id": "MBhpvjHYDInz",
        "colab": {
          "base_uri": "https://localhost:8080/",
          "height": 229
        },
        "outputId": "1f927aed-6c50-4233-8008-51d4ade6492b"
      },
      "source": [
        "import cv2 as cv \n",
        "from skimage import io\n",
        "from google.colab.patches import cv2_imshow\n",
        "\n",
        "url = 'https://user-images.githubusercontent.com/40036314/48663507-57567a00-eab7-11e8-822e-ac80eace819b.jpg'\n",
        "image = io.imread(url) \n",
        "image_2 = cv.cvtColor(image, cv.COLOR_BGR2GRAY)\n",
        "\n",
        "digits = [\n",
        "          image_2[208:340, 560:660], \n",
        "          image_2[170:320, 120:230], \n",
        "          image_2[200:340, 454:550], \n",
        "          image_2[180:320, 225:360]\n",
        "        ]\n",
        "resized = [cv.resize(d, (28,28)) for d in digits]\n",
        "tensors = [torch.tensor(d).unsqueeze(0)/255 for d in resized]\n",
        "fig = plt.figure()\n",
        "for i, t in enumerate(tensors):\n",
        "  plt.subplot(1,4,i+1)\n",
        "  plt.imshow(t.squeeze(), cmap='gray', interpolation='none')\n",
        "  plt.title(predict(t))\n",
        "  plt.xticks([])\n",
        "  plt.yticks([])\n",
        "fig\n"
      ],
      "execution_count": 10,
      "outputs": [
        {
          "output_type": "execute_result",
          "data": {
            "image/png": "[encoded data removed]",
            "text/plain": [
              "<Figure size 432x288 with 4 Axes>"
            ]
          },
          "metadata": {
            "tags": []
          },
          "execution_count": 10
        },
        {
          "output_type": "display_data",
          "data": {
            "image/png": "[encoded data removed]",
            "text/plain": [
              "<Figure size 432x288 with 4 Axes>"
            ]
          },
          "metadata": {
            "tags": []
          }
        }
      ]
    },
    {
      "cell_type": "markdown",
      "metadata": {
        "id": "G5Cv29acxEDh"
      },
      "source": [
        "terrible results..I'll attempt to fix that by reducing the intensity of the background, as now it's not exactly white, so will create a low-pass-filter:\n",
        "all intensities between white and gray will become white"
      ]
    },
    {
      "cell_type": "code",
      "metadata": {
        "id": "_qmapt4LxkQP",
        "colab": {
          "base_uri": "https://localhost:8080/",
          "height": 229
        },
        "outputId": "fdff40f1-e6c5-4dd4-b31c-d63aeb5d76b7"
      },
      "source": [
        "def filter_gray(img):\n",
        "  img_filtered =  np.where(img > 175 , 255, img)\n",
        "  return np.where(img_filtered == 255, 0 , 255)\n",
        "  \n",
        "\n",
        "\n",
        "resized = [cv.resize(d, (28,28)) for d in digits]\n",
        "filtered = [filter_gray(img) for img in resized]\n",
        "tensors = [torch.tensor(d).unsqueeze(0)/255 for d in filtered]\n",
        "\n",
        "fig = plt.figure()\n",
        "for i, t in enumerate(tensors):\n",
        "  plt.subplot(1,4,i+1)\n",
        "  plt.imshow(t.squeeze(), cmap='gray', interpolation='none')\n",
        "  plt.title(predict(t))\n",
        "  plt.xticks([])\n",
        "  plt.yticks([])\n",
        "fig\n"
      ],
      "execution_count": 11,
      "outputs": [
        {
          "output_type": "execute_result",
          "data": {
            "image/png": "[encoded data removed]",
            "text/plain": [
              "<Figure size 432x288 with 4 Axes>"
            ]
          },
          "metadata": {
            "tags": []
          },
          "execution_count": 11
        },
        {
          "output_type": "display_data",
          "data": {
            "image/png": "[encoded data removed]",
            "text/plain": [
              "<Figure size 432x288 with 4 Axes>"
            ]
          },
          "metadata": {
            "tags": []
          }
        }
      ]
    }
  ]
}